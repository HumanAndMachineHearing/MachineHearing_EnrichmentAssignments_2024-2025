{
  "nbformat": 4,
  "nbformat_minor": 0,
  "metadata": {
    "colab": {
      "provenance": [],
      "authorship_tag": "ABX9TyMat6a0AsLcokd7rmNUdtBv",
      "include_colab_link": true
    },
    "kernelspec": {
      "name": "python3",
      "display_name": "Python 3"
    },
    "language_info": {
      "name": "python"
    }
  },
  "cells": [
    {
      "cell_type": "markdown",
      "metadata": {
        "id": "view-in-github",
        "colab_type": "text"
      },
      "source": [
        "<a href=\"https://colab.research.google.com/github/HumanAndMachineHearing/Practical_2023/blob/main/Assignment_5_Students.ipynb\" target=\"_parent\"><img src=\"https://colab.research.google.com/assets/colab-badge.svg\" alt=\"Open In Colab\"/></a>"
      ]
    },
    {
      "cell_type": "markdown",
      "source": [
        "# **Enrichment Assignment 6. Interpreting your findings within a wider theoretical framework**\n",
        "\n",
        "In Session 6, you will interpret your findings within the wider framework of Audio for AI utilizing the knowledge acquired during the course.\n",
        "\n",
        "**Report Enrichment Assignments**\n",
        "<br>\n",
        "Add your materials to the Report Enrichment Assignments. A link to the template for the report can be found in the Readme file.\n"
      ],
      "metadata": {
        "id": "MG_edqWQ2sLR"
      }
    },
    {
      "cell_type": "markdown",
      "source": [
        "\n",
        "**Exercise 6.1:**<br>\n",
        "Write a discussion section for your report. Include the following:\n",
        "\n",
        "blabla\n"
      ],
      "metadata": {
        "id": "PAz5QR6NcwQL"
      }
    }
  ]
}
